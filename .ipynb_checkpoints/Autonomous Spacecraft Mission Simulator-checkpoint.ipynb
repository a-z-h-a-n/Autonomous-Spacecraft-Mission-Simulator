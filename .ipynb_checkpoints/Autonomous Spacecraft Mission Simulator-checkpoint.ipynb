{
 "cells": [
  {
   "cell_type": "code",
   "execution_count": 1,
   "id": "13a518ee-20b6-4b12-8266-f4bb8a215eec",
   "metadata": {},
   "outputs": [
    {
     "name": "stderr",
     "output_type": "stream",
     "text": [
      ".\n",
      "----------------------------------------------------------------------\n",
      "Ran 1 test in 0.003s\n",
      "\n",
      "OK\n"
     ]
    },
    {
     "data": {
      "text/plain": [
       "<unittest.main.TestProgram at 0x19742866390>"
      ]
     },
     "execution_count": 1,
     "metadata": {},
     "output_type": "execute_result"
    }
   ],
   "source": [
    "import unittest\n",
    "\n",
    "class Astronaut:\n",
    "    def __init__(self, name, role, experience=0, **kwargs):\n",
    "        #Initializes an astronaut with name, role, experience, and additional attributes.\n",
    "        self.name = name\n",
    "        self.role = role\n",
    "        self.experience = experience\n",
    "        for key, value in kwargs.items():\n",
    "            setattr(self, key, value)  # Store extra attributes \n",
    "\n",
    "    def gain_experience(self):\n",
    "        #Increments experience by 1.\n",
    "        self.experience += 1\n",
    "        return f\"New Experience Level: {self.experience}\" #shows updated experience level\n",
    "\n",
    "    def get_info(self):\n",
    "        #Returns a dictionary containing details for the astronaut.\n",
    "        info = {key: value for key, value in self.__dict__.items()} #automatically collects all attributes and their values\n",
    "        return info\n",
    "\n",
    "class TestAstronaut(unittest.TestCase):\n",
    "    def setUp(self):\n",
    "        self.astronaut = Astronaut(\"Azhan\", \"Commander\", experience=3)\n",
    "    \n",
    "    def test_gainExperience(self):\n",
    "        initial_experience = self.astronaut.experience\n",
    "        self.astronaut.gain_experience()\n",
    "        self.assertEqual(self.astronaut.experience, initial_experience + 1)\n",
    "\n",
    "unittest.main(argv=[''], exit=False)\n"
   ]
  },
  {
   "cell_type": "code",
   "execution_count": 11,
   "id": "7c68f7ca-2a82-4c68-8c2d-578f821850e8",
   "metadata": {},
   "outputs": [
    {
     "name": "stderr",
     "output_type": "stream",
     "text": [
      "...\n",
      "----------------------------------------------------------------------\n",
      "Ran 3 tests in 0.003s\n",
      "\n",
      "OK\n"
     ]
    },
    {
     "data": {
      "text/plain": [
       "<unittest.main.TestProgram at 0x19743b79dc0>"
      ]
     },
     "execution_count": 11,
     "metadata": {},
     "output_type": "execute_result"
    }
   ],
   "source": [
    "class Spacecraft:\n",
    "    def __init__(self, name, capacity):\n",
    "        #Initializes a spacecraft with a name and maximum capacity.\n",
    "        self.name = name\n",
    "        self.capacity = capacity\n",
    "        self.crew = []\n",
    "\n",
    "    def add_astronaut(self, *astronauts):\n",
    "        #Adds one or more astronauts if capacity allows.\n",
    "        for astronaut in astronauts:\n",
    "            if len(self.crew) < self.capacity:\n",
    "                self.crew.append(astronaut) #Add astronaut if current crew number is less than available capacity \n",
    "            else:\n",
    "                break  # Stop adding when capacity is reached\n",
    "\n",
    "\n",
    "    def list_crew(self):\n",
    "        #Returns a list of astronaut names that are in the crew.\n",
    "        return [astronaut.name for astronaut in self.crew] #returns name for each astronaut in crew\n",
    "\n",
    "    def get_info(self):\n",
    "        #Returns a dictionary containing details surrounding the spacecraft.\n",
    "        return {\"name\": self.name, \"capacity\": self.capacity, \"crew\": self.list_crew()}\n",
    "\n",
    "import unittest\n",
    "\n",
    "class TestSpacecraft(unittest.TestCase):\n",
    "    \n",
    "    def setUp(self):\n",
    "        self.spacecraft = Spacecraft(\"Apollo\", 2)\n",
    "        self.astronaut1 = Astronaut(\"Azhan\", \"Commander\")\n",
    "        self.astronaut2 = Astronaut(\"Yash\", \"Pilot\")\n",
    "        self.astronaut3 = Astronaut(\"Ayman\", \"Engineer\")\n",
    "    \n",
    "    def test_add_astronaut_exceeding_capacity(self):\n",
    "        #Tests that astronauts cannot be added beyond capacity.\n",
    "        self.spacecraft.add_astronaut(self.astronaut1, self.astronaut2, self.astronaut3)\n",
    "        self.assertEqual(len(self.spacecraft.crew), 2)\n",
    "\n",
    "unittest.main(argv=[''], exit=False)\n"
   ]
  },
  {
   "cell_type": "code",
   "execution_count": 3,
   "id": "a59067da-fa70-4823-95f8-ad832718bfdb",
   "metadata": {},
   "outputs": [],
   "source": [
    "class Mission:\n",
    "    def __init__(self, name, destination, spacecraft):\n",
    "        # Initializes a mission with name, destination, spacecraft, and status\n",
    "        self.name = name\n",
    "        self.destination = destination\n",
    "        self.spacecraft = spacecraft\n",
    "        self.status = \"Planned\"\n",
    "\n",
    "    def launch(self):\n",
    "        #Changes status to 'Ongoing' if the spacecraft has at least one astronaut\n",
    "        if len(self.spacecraft.crew) > 0:\n",
    "            self.status = \"Ongoing\"\n",
    "\n",
    "    def complete(self):\n",
    "        #Changes status to 'Completed'\n",
    "        self.status = \"Completed\"\n",
    "\n",
    "    def get_info(self):\n",
    "        #Returns a dictionary containing the mission’s details\n",
    "        return {\"name\": self.name, \"destination\": self.destination, \"spacecraft\": self.spacecraft.name, \"status\": self.status, \"crew\": self.spacecraft.list_crew()}\n"
   ]
  },
  {
   "cell_type": "code",
   "execution_count": 13,
   "id": "259aca69-9255-4aa7-89fc-26c406ac22e9",
   "metadata": {},
   "outputs": [
    {
     "name": "stderr",
     "output_type": "stream",
     "text": [
      "...\n",
      "----------------------------------------------------------------------\n",
      "Ran 3 tests in 0.003s\n",
      "\n",
      "OK\n"
     ]
    },
    {
     "data": {
      "text/plain": [
       "<unittest.main.TestProgram at 0x19743c293a0>"
      ]
     },
     "execution_count": 13,
     "metadata": {},
     "output_type": "execute_result"
    }
   ],
   "source": [
    "class AutonomousSpacecraft(Spacecraft):\n",
    "    def __init__(self, name, autonomy_level):\n",
    "        #Initializes an autonomous spacecraft with a fixed capacity of 0.\n",
    "        super().__init__(name, capacity=0)\n",
    "        self.autonomy_level = autonomy_level\n",
    "\n",
    "    def add_astronaut(self, *astronauts):\n",
    "        pass  # Prevent adding astronauts\n",
    "\n",
    "    def get_info(self):\n",
    "        #Returns a dictionary containing the spacecraft’s details.\n",
    "        info = super().get_info()\n",
    "        info[\"autonomy_level\"] = self.autonomy_level\n",
    "        return info\n",
    "\n",
    "class TestAutonomousSpacecraft(unittest.TestCase):\n",
    "    def setUp(self):\n",
    "        #Set up an autonomous spacecraft instance for testing.\n",
    "        self.autonomous_craft = AutonomousSpacecraft(\"Akira\", 10)\n",
    "        self.astronaut1 = Astronaut(\"Azhan\", \"Commander\")\n",
    "    \n",
    "    def test_add_astronaut_does_not_modify_crew(self):\n",
    "        #Test that add_astronaut does not modify the crew list\n",
    "        initial_crew_size = len(self.autonomous_craft.crew)\n",
    "        self.autonomous_craft.add_astronaut(self.astronaut1)\n",
    "        self.assertEqual(len(self.autonomous_craft.crew), initial_crew_size)\n",
    "\n",
    "unittest.main(argv=[''], exit=False)\n"
   ]
  },
  {
   "cell_type": "code",
   "execution_count": null,
   "id": "a0ff37f9-2786-4faa-9f9a-20dc3e9b73b9",
   "metadata": {},
   "outputs": [],
   "source": []
  }
 ],
 "metadata": {
  "kernelspec": {
   "display_name": "Python 3 (ipykernel)",
   "language": "python",
   "name": "python3"
  },
  "language_info": {
   "codemirror_mode": {
    "name": "ipython",
    "version": 3
   },
   "file_extension": ".py",
   "mimetype": "text/x-python",
   "name": "python",
   "nbconvert_exporter": "python",
   "pygments_lexer": "ipython3",
   "version": "3.12.4"
  }
 },
 "nbformat": 4,
 "nbformat_minor": 5
}
